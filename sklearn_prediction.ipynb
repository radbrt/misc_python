{
 "cells": [
  {
   "cell_type": "markdown",
   "metadata": {},
   "source": [
    "# Maskinlæring\n",
    "\n",
    "Maskinlæring deles ofte i to deler, såkalt supervised og unsupervised, hvor unsupervised metoder forsøker å finne struktur i data på egenhånd, mens supervised maskinlæring brukes for å trene modeller som kan predikere nye utfall.\n",
    "\n",
    "Det er naturligvis supervised maskinlæring som er i fokus, alt pratet om Kunstig Intelligens refererer til supervised learning.\n",
    "\n",
    "I denne notebooken skal vi først se litt på unsupervised maskinlæring og nye (dvs gamle) tilnærminger til utliggerdeteksjon på et datasett over lønninger i Boston. Deretter ser vi på supervised maskinlæring for tre ulike typer data\n",
    "\n",
    "Med et tabulært (strukturert) datasett fra et nettsted for peer-to-peer lån forsøker vi å predikere manglende innfrielse av.\n",
    "\n",
    "På et tekstdatasett fra offentlig elektronisk postjournal (aka websak) forsøker vi å bruke bag-of-words for å predikere om dokumenttitler kommer fra Statistisk Sentralbyrå eller Fylkesmannen i Sogn og Fjordane.\n",
    "\n",
    "Til slutt ser vi på maskinlæring med bilder, med et datasett fra IBM som inneholder bilder med 6 forskjellige motiver."
   ]
  },
  {
   "cell_type": "markdown",
   "metadata": {},
   "source": [
    "## Outlier detection på lønnsdata\n",
    "\n",
    "Vi må naturligvis begynne med å lese inn dataene, og sørge for at vi har riktige datatyper. For å konvertere datatyper allerede i innlesing bruker vi `converters` opsjonen i `pd.read_csv`, og spesifiserer vår egen funksjon for å konvertere de litt sære lønnsverdiene (som starter med $ og har komma som tusenskilletegn)."
   ]
  },
  {
   "cell_type": "code",
   "execution_count": 1,
   "metadata": {},
   "outputs": [],
   "source": [
    "import pandas as pd"
   ]
  },
  {
   "cell_type": "code",
   "execution_count": 2,
   "metadata": {},
   "outputs": [],
   "source": [
    "def forcefloat(f):\n",
    "    try:\n",
    "        rf = float(f.replace(\",\", \"\"))\n",
    "    except:\n",
    "        rf = 0\n",
    "    return(rf)"
   ]
  },
  {
   "cell_type": "code",
   "execution_count": null,
   "metadata": {},
   "outputs": [],
   "source": [
    "import pandas as pd\n",
    "emp = pd.read_csv('employeeearningscy18full.csv', \n",
    "                  converters={'REGULAR': forcefloat, \n",
    "                              'RETRO': forcefloat, \n",
    "                              'OTHER': forcefloat, \n",
    "                              'OVERTIME': forcefloat,\n",
    "                              'INJURED': forcefloat,\n",
    "                              'DETAIL': forcefloat,\n",
    "                              'QUINN/EDUCATION INCENTIVE': forcefloat,\n",
    "                             'TOTAL EARNINGS': forcefloat},\n",
    "                  encoding='latin1')"
   ]
  }
 ],
 "metadata": {
  "kernelspec": {
   "display_name": "Python 3",
   "language": "python",
   "name": "python3"
  },
  "language_info": {
   "codemirror_mode": {
    "name": "ipython",
    "version": 3
   },
   "file_extension": ".py",
   "mimetype": "text/x-python",
   "name": "python",
   "nbconvert_exporter": "python",
   "pygments_lexer": "ipython3",
   "version": "3.7.3"
  }
 },
 "nbformat": 4,
 "nbformat_minor": 2
}
