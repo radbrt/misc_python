{
 "cells": [
  {
   "cell_type": "markdown",
   "metadata": {},
   "source": [
    "# Let there be floats"
   ]
  },
  {
   "cell_type": "code",
   "execution_count": 1,
   "metadata": {},
   "outputs": [],
   "source": [
    "flt = 2.123"
   ]
  },
  {
   "cell_type": "code",
   "execution_count": 19,
   "metadata": {},
   "outputs": [
    {
     "data": {
      "text/plain": [
       "float"
      ]
     },
     "execution_count": 19,
     "metadata": {},
     "output_type": "execute_result"
    }
   ],
   "source": [
    "type(flt)"
   ]
  },
  {
   "cell_type": "code",
   "execution_count": 34,
   "metadata": {},
   "outputs": [
    {
     "data": {
      "text/plain": [
       "140604346353056"
      ]
     },
     "execution_count": 34,
     "metadata": {},
     "output_type": "execute_result"
    }
   ],
   "source": [
    "id(flt)"
   ]
  },
  {
   "cell_type": "markdown",
   "metadata": {},
   "source": [
    "We'll stick to numpy floats because we want things simple."
   ]
  },
  {
   "cell_type": "code",
   "execution_count": 27,
   "metadata": {},
   "outputs": [],
   "source": [
    "import numpy as np\n",
    "r = np.array(range(1, 10), dtype='float64')"
   ]
  },
  {
   "cell_type": "code",
   "execution_count": 29,
   "metadata": {},
   "outputs": [
    {
     "data": {
      "text/plain": [
       "8"
      ]
     },
     "execution_count": 29,
     "metadata": {},
     "output_type": "execute_result"
    }
   ],
   "source": [
    "r[0].nbytes"
   ]
  },
  {
   "cell_type": "markdown",
   "metadata": {},
   "source": [
    "Men, flyttall kan oppføre seg merkelig til tider. Vi har vårt flotte numpy-array med flyttall (1.0-10.0), som vi ser at hver opptar 8 bytes, totalt 64 bits som vi ba om. Men når vi multipliserer hvert av disse tallene med 0.001, får vi litt rare utslag."
   ]
  },
  {
   "cell_type": "code",
   "execution_count": 60,
   "metadata": {},
   "outputs": [
    {
     "name": "stdout",
     "output_type": "stream",
     "text": [
      "0.001\n",
      "0.002\n",
      "0.003\n",
      "0.004\n",
      "0.005\n",
      "0.006\n",
      "0.007\n",
      "0.008\n",
      "0.009000000000000001\n"
     ]
    }
   ],
   "source": [
    "from decimal import Decimal\n",
    "\n",
    "for i in range(1, 10):\n",
    "    print(i*0.001)"
   ]
  },
  {
   "cell_type": "markdown",
   "metadata": {},
   "source": [
    "Her får datamaskinen et avrundingsproblem hvor vi selv ikke ser noe problem. Alle vet at datamaskiner er binære, men nå opplever vi konsekvensene: Datamaskinen avrunder på en annen måte enn oss. Men det betyr ikke at datamaskinen er dårligere enn oss. \n",
    "\n",
    "Mennesker, som typisk bruker grunntall 10, har trøbbel med å skrive 1/3, som blir 0.333333 i en uendelig rekke. Hadde vi derimot fulgt Jo Røislien sitt råd og brukt grunntall 12, ville 1/3 vært 0.4 - ingen avrundingsproblemer. De samme situasjonene oppstår med grunntall 2, og alle gode data-scientister vet derfor at Jo Røislien tar feil - 8 hadde vært et bedre grunntall enn 10 eller 12.\n",
    "\n",
    "Se også https://docs.python.org/2/tutorial/floatingpoint.html"
   ]
  },
  {
   "cell_type": "markdown",
   "metadata": {},
   "source": [
    "Forvirringen skjer ikke bare i regnestykker - selv et så enkelt tall som 0.1 klarer ikke å representeres nøyaktig med grunntall 2."
   ]
  },
  {
   "cell_type": "code",
   "execution_count": 59,
   "metadata": {},
   "outputs": [
    {
     "data": {
      "text/plain": [
       "'0.10000000000000000555111512312578270211815834045410'"
      ]
     },
     "execution_count": 59,
     "metadata": {},
     "output_type": "execute_result"
    }
   ],
   "source": [
    "\"{:.50f}\".format(0.1)"
   ]
  },
  {
   "cell_type": "markdown",
   "metadata": {},
   "source": [
    "Et 32-bit flyttall (float) representeres etter en standard som heter IEEE-754, og er (på de fleste moderne datamaskiner) representert ved at den første bit'en er fortegnet (0 for positive tall, 1 for negative), de neste 8 bit'ene er eksponenten (med grunntall 2, or resten (23 bits) er mantissaen, altså selve tallet eller presisjonen avhengig av hvordan du ser på det.\n",
    "\n",
    "Denne representasjonen ligner veldig på scientific notasjon, som tar formen $4.284763*10^{-5}$"
   ]
  },
  {
   "cell_type": "markdown",
   "metadata": {},
   "source": [
    "Et vanlig desimaltall, 2.432, kan vi tenke på som følgende sum:\n",
    "\n",
    "\n",
    "$$\\frac{2}{10^{0}} + \\frac{4}{10^{1}} + \\frac{3}{10^{2}} + \\frac{2}{10^{3} } = \\frac{2}{1} + \\frac{4}{10} + \\frac{3}{100} + \\frac{2}{1000} = 2 + 0.4 + 0.03 + 0.002 = 2.432 $$"
   ]
  },
  {
   "cell_type": "markdown",
   "metadata": {},
   "source": [
    "Det samme desimaltallet representeres, binært på IEEE754 som `01000000000110111010010111100011`:\n",
    "\n",
    "| Sign | Exp | Mantissa |\n",
    "|---|---|---|\n",
    "| `0` | `10000000` | `00110111010010111100011` |"
   ]
  },
  {
   "cell_type": "markdown",
   "metadata": {},
   "source": [
    "Mantissaen blir da:\n",
    "\n",
    "$$ 1 + \\frac{0}{2^{1}} + \\frac{0}{2^{2}} + \\frac{1}{2^{3}} + \\frac{1}{2^{4}} + \\frac{0}{2^{5}}+ \\frac{1}{2^{6}}+ \\frac{1}{2^{7}}+ \\frac{1}{2^{8}} +  ... + \\frac{0}{2^{21}} + \\frac{1}{2^{22}} + \\frac{1}{2^{23}} = 1.2159$$\n",
    "\n"
   ]
  },
  {
   "cell_type": "markdown",
   "metadata": {},
   "source": [
    "Eksponenten blir litt merkelig, 8 bit gir 256 muligheter, men eksponenten må kunne være både positiv og negativ, så 128 er 1, 127 er 0, 126 blir -1 og 129 blir 2. I vårt tilfelle er den 10000000 som blir 128, altså $2^0$, som er 1.\n",
    "\n",
    "Resultatet blir da $$2^0 * 1.2159 = 2.43$$\n",
    "\n",
    "\n",
    "Så, måten flyttall representeres på digitalt er ikke så veldig forskjellig fra måten vi selv skriver tall. Men konverteringen fra grunntall 10 til grunntall 2 medfører noen problemer."
   ]
  },
  {
   "cell_type": "code",
   "execution_count": null,
   "metadata": {},
   "outputs": [],
   "source": []
  }
 ],
 "metadata": {
  "kernelspec": {
   "display_name": "Python 3",
   "language": "python",
   "name": "python3"
  },
  "language_info": {
   "codemirror_mode": {
    "name": "ipython",
    "version": 3
   },
   "file_extension": ".py",
   "mimetype": "text/x-python",
   "name": "python",
   "nbconvert_exporter": "python",
   "pygments_lexer": "ipython3",
   "version": "3.7.3"
  }
 },
 "nbformat": 4,
 "nbformat_minor": 2
}
